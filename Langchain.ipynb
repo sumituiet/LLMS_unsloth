{
 "cells": [
  {
   "cell_type": "code",
   "execution_count": 1,
   "metadata": {},
   "outputs": [
    {
     "ename": "ModuleNotFoundError",
     "evalue": "No module named 'pytorch'",
     "output_type": "error",
     "traceback": [
      "\u001b[1;31m---------------------------------------------------------------------------\u001b[0m",
      "\u001b[1;31mModuleNotFoundError\u001b[0m                       Traceback (most recent call last)",
      "Cell \u001b[1;32mIn[1], line 1\u001b[0m\n\u001b[1;32m----> 1\u001b[0m \u001b[38;5;28;01mimport\u001b[39;00m \u001b[38;5;21;01mpytorch\u001b[39;00m \n\u001b[0;32m      2\u001b[0m \u001b[38;5;28;01mimport\u001b[39;00m \u001b[38;5;21;01mmatplotlib\u001b[39;00m\n",
      "\u001b[1;31mModuleNotFoundError\u001b[0m: No module named 'pytorch'"
     ]
    }
   ],
   "source": [
    "from langchain import LLMChain, PromptTemplate\n",
    "from langchain.llms import LLAMA\n",
    "from langchain.agents import create_sql_agent, SQLAgent\n",
    "from sqlalchemy import create_engine, text\n",
    "import os"
   ]
  },
  {
   "cell_type": "code",
   "execution_count": null,
   "metadata": {},
   "outputs": [],
   "source": [
    "DATABASE_URL = os.environ.get(\"MONGOURI\")\n",
    "engine = create_engine(DATABASE_URL)\n"
   ]
  },
  {
   "cell_type": "code",
   "execution_count": null,
   "metadata": {},
   "outputs": [],
   "source": [
    "prompt_template = \"\"\"\n",
    "You are an assistant that retrieves information from a database. \n",
    "When asked about occupancy or crowd monitoring, use the provided database connection to fetch relevant details.\n",
    "Consider the following:\n",
    "- Time: {time}\n",
    "- Place: {place}\n",
    "\n",
    "Query: {query}\n",
    "\"\"\""
   ]
  },
  {
   "cell_type": "code",
   "execution_count": null,
   "metadata": {},
   "outputs": [],
   "source": [
    "llm = LLAMA(model_name='redbackbot')\n",
    "llm_chain = LLMChain(\n",
    "    llm=llm,\n",
    "    prompt_template=PromptTemplate(template=prompt_template),\n",
    ")"
   ]
  },
  {
   "cell_type": "code",
   "execution_count": null,
   "metadata": {},
   "outputs": [],
   "source": [
    "sql_agent = create_sql_agent(llm_chain, engine)"
   ]
  },
  {
   "cell_type": "code",
   "execution_count": null,
   "metadata": {},
   "outputs": [],
   "source": [
    "def get_dynamic_info(time: str, place: str, query_template: str):\n",
    "    try:\n",
    "        # Format the query with the provided time and place\n",
    "        query = query_template.format(time=time, place=place)\n",
    "        # Use the agent to run the SQL query\n",
    "        result = sql_agent.run(query)\n",
    "        return result\n",
    "    except Exception as e:\n",
    "        return str(e)"
   ]
  },
  {
   "cell_type": "code",
   "execution_count": null,
   "metadata": {},
   "outputs": [],
   "source": [
    "# Example function usage: Get current occupancy info based on time and place\n",
    "def get_occupancy_info(time: str, place: str):\n",
    "    query_template = \"SELECT COUNT(*) AS current_occupancy FROM occupancy_table WHERE status = 'occupied' AND time = '{time}' AND place = '{place}';\"\n",
    "    return get_dynamic_info(time, place, query_template)\n",
    "\n",
    "# Example function usage: Get crowd monitoring info based on time and place\n",
    "def get_crowd_info(time: str, place: str):\n",
    "    query_template = \"SELECT area, COUNT(*) AS crowd_count FROM crowd_monitoring_table WHERE time = '{time}' AND place = '{place}' GROUP BY area;\"\n",
    "    return get_dynamic_info(time, place, query_template)"
   ]
  },
  {
   "cell_type": "code",
   "execution_count": null,
   "metadata": {},
   "outputs": [],
   "source": [
    "time_input = \"2024-09-01 12:00:00\"\n",
    "place_input = \"Main Hall\"\n",
    "\n",
    "occupancy_info = get_occupancy_info(time_input, place_input)\n",
    "print(f\"Occupancy Information for {place_input} at {time_input}: {occupancy_info}\")\n",
    "\n",
    "crowd_info = get_crowd_info(time_input, place_input)\n",
    "print(f\"Crowd Monitoring Information for {place_input} at {time_input}: {crowd_info}\")"
   ]
  }
 ],
 "metadata": {
  "kernelspec": {
   "display_name": "llms",
   "language": "python",
   "name": "python3"
  },
  "language_info": {
   "codemirror_mode": {
    "name": "ipython",
    "version": 3
   },
   "file_extension": ".py",
   "mimetype": "text/x-python",
   "name": "python",
   "nbconvert_exporter": "python",
   "pygments_lexer": "ipython3",
   "version": "3.12.5"
  }
 },
 "nbformat": 4,
 "nbformat_minor": 2
}
